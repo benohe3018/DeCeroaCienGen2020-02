{
  "nbformat": 4,
  "nbformat_minor": 0,
  "metadata": {
    "colab": {
      "provenance": [],
      "authorship_tag": "ABX9TyPD+czGkfPFVefd4YfEfY4o",
      "include_colab_link": true
    },
    "kernelspec": {
      "name": "python3",
      "display_name": "Python 3"
    },
    "language_info": {
      "name": "python"
    }
  },
  "cells": [
    {
      "cell_type": "markdown",
      "metadata": {
        "id": "view-in-github",
        "colab_type": "text"
      },
      "source": [
        "<a href=\"https://colab.research.google.com/github/benohe3018/DeCeroaCienGen2020-02/blob/master/Clase7.ipynb\" target=\"_parent\"><img src=\"https://colab.research.google.com/assets/colab-badge.svg\" alt=\"Open In Colab\"/></a>"
      ]
    },
    {
      "cell_type": "markdown",
      "source": [
        "## Calcula el área de un triangulo"
      ],
      "metadata": {
        "id": "jQtizbUppx0R"
      }
    },
    {
      "cell_type": "code",
      "execution_count": 2,
      "metadata": {
        "id": "WvbaHeKdpwlh"
      },
      "outputs": [],
      "source": [
        "##Importamos nuestra librería math para utilizar sqrt\n",
        "from math import sqrt"
      ]
    },
    {
      "cell_type": "code",
      "source": [
        "## Creamos y definimos nuestra función, recibirá 3 parametros lado1, lado2, lado3\n",
        "def triangle_area(side1, side2, side3):\n",
        "  \"\"\"\n",
        "  Calculamos el área de cualquier triangulo utilizando el semiperimetro\n",
        "  \"\"\"\n",
        "  sp = (side1+side2+side3)/2\n",
        "  area = sqrt(sp*(sp-side1) * (sp-side2) * (sp-side3))\n",
        "  return area\n",
        "\n"
      ],
      "metadata": {
        "id": "Hp5Dvskip-ot"
      },
      "execution_count": 14,
      "outputs": []
    },
    {
      "cell_type": "code",
      "source": [
        "triangle_area(3,2,3)"
      ],
      "metadata": {
        "colab": {
          "base_uri": "https://localhost:8080/"
        },
        "id": "VyDU-hPUrdct",
        "outputId": "aeff3dda-a075-4124-95fd-cdeddc87c69b"
      },
      "execution_count": 17,
      "outputs": [
        {
          "output_type": "execute_result",
          "data": {
            "text/plain": [
              "2.8284271247461903"
            ]
          },
          "metadata": {},
          "execution_count": 17
        }
      ]
    },
    {
      "cell_type": "code",
      "source": [
        "triangle_area(3,2,5)"
      ],
      "metadata": {
        "colab": {
          "base_uri": "https://localhost:8080/"
        },
        "id": "CI6rVtgzvE1l",
        "outputId": "24a0b085-2966-400b-fc11-5e38f6d3b6f1"
      },
      "execution_count": 22,
      "outputs": [
        {
          "output_type": "execute_result",
          "data": {
            "text/plain": [
              "0.0"
            ]
          },
          "metadata": {},
          "execution_count": 22
        }
      ]
    },
    {
      "cell_type": "markdown",
      "source": [
        "# Calcular el área de una esfera\n",
        "La fórmula para el área de una esfera es la siguiente: $$area = 4 * π * radio^{2}$$\n",
        "\n",
        "1.- Crear una función que calcule el area de la esfera\n",
        "2.- usar la función π de math"
      ],
      "metadata": {
        "id": "XBU36DERwkMQ"
      }
    },
    {
      "cell_type": "code",
      "source": [
        "##Importamos la funcion pi desde la libreria math\n",
        "from math import pi"
      ],
      "metadata": {
        "id": "A18KWKClyEt-"
      },
      "execution_count": 23,
      "outputs": []
    },
    {
      "cell_type": "code",
      "source": [
        "###Creamos y definimos nuestra función para calcular el área de la esfera\n",
        "def sphere_area(radio):\n",
        "  \"\"\"\n",
        "  Calculamos el area de una esfera utilizando la funcion pi de math\n",
        "  \"\"\"\n",
        "  area = 4 * pi * sqrt(radio)\n",
        "  return area\n"
      ],
      "metadata": {
        "id": "HS2X5dVbzKOZ"
      },
      "execution_count": 24,
      "outputs": []
    },
    {
      "cell_type": "code",
      "source": [
        "sphere_area(4)"
      ],
      "metadata": {
        "colab": {
          "base_uri": "https://localhost:8080/"
        },
        "id": "HLzlX4eOzZWk",
        "outputId": "2d1b0fdf-53d2-4cfe-943a-a1a268571082"
      },
      "execution_count": 25,
      "outputs": [
        {
          "output_type": "execute_result",
          "data": {
            "text/plain": [
              "25.132741228718345"
            ]
          },
          "metadata": {},
          "execution_count": 25
        }
      ]
    },
    {
      "cell_type": "markdown",
      "source": [
        "##Calcular el volumen de una esfera\n",
        "La fórmula para el área de una esfera es la siguiente: $$volumen=4∗π∗radio^{3}/{3} $$\n",
        "\n",
        "1.- Crear una función recibe el radio y calcula el volumen\n",
        "2.- usar la función π de math"
      ],
      "metadata": {
        "id": "b8tbf5HSyLaQ"
      }
    },
    {
      "cell_type": "code",
      "source": [
        "##Creamos e implementamos una función que nos calcule el volumen de la esfera\n",
        "def sphere_volumen(area):\n",
        "  \"\"\"\n",
        "  Calculamos el volumen de la esfera partiendo del área de la esfera contenida en la funcion\n",
        "  sphere_area\n",
        "  \"\"\"\n",
        "  ##Calculamos el radio a partir del área\n",
        "  radio = sqrt(area / (4 * pi))\n",
        "  ##Calculamos el volumen de la esfera ya teniendo el radio de la esfera\n",
        "  volumen = (4/3*pi* radio**3)\n",
        "  return volumen\n"
      ],
      "metadata": {
        "id": "c7QM8ZdtzfTe"
      },
      "execution_count": 26,
      "outputs": []
    },
    {
      "cell_type": "code",
      "source": [
        "sphere_area(5)"
      ],
      "metadata": {
        "colab": {
          "base_uri": "https://localhost:8080/"
        },
        "id": "ZcyKN4s32PSm",
        "outputId": "d23c7a46-b250-46c3-ca3a-19a466f6fc6c"
      },
      "execution_count": 27,
      "outputs": [
        {
          "output_type": "execute_result",
          "data": {
            "text/plain": [
              "28.099258924162907"
            ]
          },
          "metadata": {},
          "execution_count": 27
        }
      ]
    },
    {
      "cell_type": "code",
      "source": [
        "area_calculada = sphere_area(5)  # Por ejemplo, para una esfera con radio 5\n",
        "volumen_calculado = sphere_volumen(area_calculada)\n",
        "print(volumen_calculado)"
      ],
      "metadata": {
        "colab": {
          "base_uri": "https://localhost:8080/"
        },
        "id": "g3vG1Rma2WkT",
        "outputId": "d20e82f6-e281-4eff-8de9-2aaef66b0e37"
      },
      "execution_count": 28,
      "outputs": [
        {
          "output_type": "stream",
          "name": "stdout",
          "text": [
            "14.0060641951555\n"
          ]
        }
      ]
    },
    {
      "cell_type": "markdown",
      "source": [
        "## Función para calcular el indice de masa corporal\n",
        "BMI: índice de masa corporal\n",
        "La operación bikini se aproxima y lo primero es saber cúanto tienes que adelgazar. Para eso, nada mejor que el BMI.\n",
        "\n",
        "EL BMI es un índice (un número) que se obtiene a partir de tu peso y altura y según dicho valor, se sabe si están en tu peso ideal, por encima del mismo o por debajo (no te lo crees ni tú).\n",
        "\n",
        "La fórmula, usando Kg para el peso y m para la altura es:\n",
        "\n",
        "$$ bmi= \\frac{peso}{altura^{2}}$$\n",
        "\n",
        "crea la función bmi que recibe peso y altura (en Kg y m)\n",
        "devuelve el bmi"
      ],
      "metadata": {
        "id": "nqFNw-tpc6-a"
      }
    },
    {
      "cell_type": "code",
      "source": [
        "##Función para calcular el Indice de masa Corporal(BMI)\n",
        "## Definimos e implementamos nuestra función\n",
        "def calculate_BMI(peso, altura):\n",
        "  \"\"\"\n",
        "  Realizamos el calculo del indice de masa corporal\n",
        "  \"\"\"\n",
        "  bmi = peso / (altura **2)\n",
        "  return bmi"
      ],
      "metadata": {
        "id": "4brKu6_Gdeag"
      },
      "execution_count": 5,
      "outputs": []
    },
    {
      "cell_type": "code",
      "source": [
        "calculate_BMI(79, 1.80)"
      ],
      "metadata": {
        "colab": {
          "base_uri": "https://localhost:8080/"
        },
        "id": "813nss-EeDhd",
        "outputId": "557966d2-e5ad-41e4-c27e-6a720c8b949d"
      },
      "execution_count": 7,
      "outputs": [
        {
          "output_type": "execute_result",
          "data": {
            "text/plain": [
              "24.382716049382715"
            ]
          },
          "metadata": {},
          "execution_count": 7
        }
      ]
    },
    {
      "cell_type": "markdown",
      "source": [],
      "metadata": {
        "id": "END0LGGzhldL"
      }
    },
    {
      "cell_type": "markdown",
      "metadata": {
        "id": "5hMWxf0YdJsk"
      },
      "source": [
        "## Euros a Pesetas\n",
        "\n",
        "Una función para los nostálgicos: vamos a convertir precios en Euros a Pesetas. La tasa de conversión es: 166 Pesetas por Euro.\n",
        "\n",
        "1. Crea la función `euro_to_pta` que recibe un número de euros y te devuelve la cantidad de Pesetas\n",
        "2. Ahora crea la función `pta_to_euro`que hace lo opuesto.\n",
        "   1. ¿Podrías implementar `pta_to_euro` llamando a `euro_to_pta` (para reaprovechar código)?\n",
        "   \n"
      ]
    },
    {
      "cell_type": "code",
      "source": [
        "##Esta función convertirá de Euros a Pesetas\n",
        "def euro_to_pta(euros_amount):\n",
        "  \"\"\"\n",
        "  Aquí va a ir el cuerpo de la función y el cálculo de la conversión\n",
        "  \"\"\"\n",
        "  conversion_a_pta = 166 * euros_amount\n",
        "  return conversion_a_pta\n",
        "\n",
        "def pta_to_euro(pta_amount):\n",
        "    \"\"\"\n",
        "    Ahora lo hacemos a la inversa\n",
        "    \"\"\"\n",
        "    conversion_a_euro = pta_amount / 166\n",
        "    return(conversion_a_euro)"
      ],
      "metadata": {
        "id": "CRfQOcBGh0s-"
      },
      "execution_count": 15,
      "outputs": []
    },
    {
      "cell_type": "code",
      "source": [
        "euro_to_pta(15)"
      ],
      "metadata": {
        "colab": {
          "base_uri": "https://localhost:8080/"
        },
        "id": "mi-D8CZKjSKz",
        "outputId": "f2cf398f-d2f2-4ef9-af56-4ece530c5ea8"
      },
      "execution_count": 18,
      "outputs": [
        {
          "output_type": "execute_result",
          "data": {
            "text/plain": [
              "2490"
            ]
          },
          "metadata": {},
          "execution_count": 18
        }
      ]
    },
    {
      "cell_type": "code",
      "source": [
        "from math import sqrt, pow"
      ],
      "metadata": {
        "id": "Y9sXHJGWaw8Q"
      },
      "execution_count": 6,
      "outputs": []
    },
    {
      "cell_type": "markdown",
      "source": [
        "## Energía cinética\n",
        "\n",
        "Crea la función cinetic_energy(mass, speed) que acepta la masa y la velocidad de un objeto y devuelve la energía cinética del objeto, calculada con la fórmula: E = (1/2)mv²."
      ],
      "metadata": {
        "id": "saW6Odzys1gH"
      }
    },
    {
      "cell_type": "code",
      "source": [
        "##Función que calcula la energia cinétioica del objeto\n",
        "##Definimos e implementamos nuestra función\n",
        "def cinetic_energy(mass, speed):\n",
        "  \"\"\"\n",
        "  Creamos el cuerpo de nuestra función y calculamos con la formula E = (1/2)mv².\n",
        "  \"\"\"\n",
        "  energy = (1/2)*mass*speed**2\n",
        "  return energy"
      ],
      "metadata": {
        "id": "TvfNEhiQs6Pa"
      },
      "execution_count": 20,
      "outputs": []
    },
    {
      "cell_type": "code",
      "source": [
        "cinetic_energy(20, 100)"
      ],
      "metadata": {
        "colab": {
          "base_uri": "https://localhost:8080/"
        },
        "id": "TviPpAN7tdhm",
        "outputId": "3494bb3c-cb89-421d-a264-2ad2db12aeb6"
      },
      "execution_count": 21,
      "outputs": [
        {
          "output_type": "execute_result",
          "data": {
            "text/plain": [
              "100000.0"
            ]
          },
          "metadata": {},
          "execution_count": 21
        }
      ]
    },
    {
      "cell_type": "markdown",
      "source": [
        "## Ecuación de 2º Grado\n",
        "\n",
        "Tienes la siguiente *ecuación de segundo grado* (¿te acuerdas?):\n",
        "\n",
        "$$y = x^{2} + 3 * x - 2$$\n",
        "\n",
        "1. Crea la función que calcula y recibe x.\n",
        "\n",
        "### ¿Reversible?\n",
        "\n",
        "Las funciones (o ecuaciones) cuadráticas (2º grado) ¿son reversibles?"
      ],
      "metadata": {
        "id": "-ZtfDV3Xjrbs"
      }
    },
    {
      "cell_type": "code",
      "source": [
        "##Función que calcula una ecuación de 2do grado\n",
        "def second_grade_function(x):\n",
        "  \"\"\"\n",
        "  Creamos el cuerpo de la función\n",
        "  \"\"\"\n",
        "  y = x**2 + 3* x -2\n",
        "  return y"
      ],
      "metadata": {
        "id": "moxYdulxjvxs"
      },
      "execution_count": 15,
      "outputs": []
    },
    {
      "cell_type": "code",
      "source": [
        "##Función que calcula una ecuación de 2do grado\n",
        "def second_grade_function2(x):\n",
        "  \"\"\"\n",
        "  Creamos el cuerpo de la función\n",
        "  \"\"\"\n",
        "  y = pow(x,2) + 3* x -2\n",
        "  return y"
      ],
      "metadata": {
        "id": "dedfXqQamm_W"
      },
      "execution_count": 18,
      "outputs": []
    },
    {
      "cell_type": "code",
      "source": [
        "second_grade_function(2)"
      ],
      "metadata": {
        "colab": {
          "base_uri": "https://localhost:8080/"
        },
        "id": "4LnTnIZFkUPy",
        "outputId": "3eed0e93-40dd-4513-8a6b-9178127803f2"
      },
      "execution_count": 16,
      "outputs": [
        {
          "output_type": "execute_result",
          "data": {
            "text/plain": [
              "8"
            ]
          },
          "metadata": {},
          "execution_count": 16
        }
      ]
    },
    {
      "cell_type": "code",
      "source": [
        "second_grade_function2(2)"
      ],
      "metadata": {
        "colab": {
          "base_uri": "https://localhost:8080/"
        },
        "id": "9HxPPosinv0d",
        "outputId": "7312528b-3ebb-4b8b-f572-eb6c989cdef8"
      },
      "execution_count": 19,
      "outputs": [
        {
          "output_type": "execute_result",
          "data": {
            "text/plain": [
              "8.0"
            ]
          },
          "metadata": {},
          "execution_count": 19
        }
      ]
    },
    {
      "cell_type": "markdown",
      "source": [
        "## 🛎️ Funciones Totales y Parciales\n",
        "\n",
        "Tenemos estas dos funciones matemáticas y tienes que crear las funciones de Python equivalentes\n",
        "\n",
        "$$a) f(x,y) = \\frac{x^{2} + y^{2}}{x - y}$$\n",
        "\n",
        "$$b) f(m,n) = \\frac{m^{2} - n^{2} + n}{m * n}$$\n",
        "\n",
        "\n",
        "1. Prueba ambas funciones con varios valores para asegurarte que funcionan bien.\n",
        "2. ¿Hay algún valor de x o y que haga que haga que (a) estalle?\n",
        "3. ¿Hay algún valor de m o n que haga que (b) estalle?\n",
        "4. En la función cuadrática anterior, ¿hay algún valor de x que haga que la función estalle?\n",
        "\n",
        "\n",
        "> Una función es **total** si acepta todos los posibles valores de sus parámetros.\n",
        "\n",
        "La *función cuadrática* anterior es **total**: acepta números y traga con cualquier número posible.\n",
        "\n",
        "> Una función es **parcial** si hay uno o más valores de sus parámetros que hacen que no pueda hacer su trabajo\n",
        "\n",
        "Las funciones (a) y (b) son **parciales**\n",
        "\n",
        "* Si x e y son iguales, a f(x,y) le dá un jamacuco\n",
        "* Si m o n son cero, a f(m,n) le dá un jamacuco\n",
        "\n",
        "\n",
        "## Conclusión\n",
        "\n",
        "Lo ideal sería que todas nuestras funciones fuesen *funciones totales*, facilitaría mucho nuestra vida.\n",
        "\n",
        "Como bien sabrás, la vida no es fácil y habrá muchas *funciones parciales* de por medio. En esos casos,\n",
        "\n",
        "* tendremos que identificar las *condiciones excepcionales* (los valores que causan el jamacuco)\n",
        "* cuando se den, tendremso que *gestionar dicho error*\n",
        "\n",
        "La *gestión de errores* se verá con calma más adelante, pero ya eres consciete de su necesidad.\n",
        "\n",
        "## Ejercicio\n",
        "\n",
        "Repasa todas las funciones que has creado hasta ahora y clasifícalas como *totales* o *parciales*.\n",
        "Si son parciales, identifica las *condiciones excepcionales*."
      ],
      "metadata": {
        "id": "4gi73JVPjcLA"
      }
    },
    {
      "cell_type": "markdown",
      "source": [
        "## Distancia entre dos puntos en el plano cartesiano\n",
        "\n",
        "![](point_distance.gif)\n",
        "\n",
        "\n",
        " Si tenemos dos puntos:\n",
        "\n",
        " $$p_{1}(x_{1}, y_{1})$$\n",
        " $$p_{2}(x_{2}, y_{2})$$\n",
        "\n",
        " su *distancia cartesiana* sería la siguiente:\n",
        "\n",
        " $$dc = \\sqrt{(x_{1} - x_{2})^{2} + (y_{1} - y_{2})^{2}}$$\n",
        "\n",
        "\n",
        " 1. Crear una función que recibe la x e y del primer punto y la x e y del segundo punto\n",
        " 2. Devuelve la distancia cartesiana\n",
        "\n",
        "\n",
        "### Curiosidad\n",
        "\n",
        "Esta es la *distancia cartesiana*, pero hay otros tipos de distancias definidas entre puntos.\n",
        "\n",
        "La *distancia cartesiana* es la primera que te muestra Google Maps o Waze cuando pides que te lleve a algún sitio. Normalmente cuando pides que calcule la ruta, te llevas un chasco, porque te da otra distancia mayor. ¿¿Por qué??\n",
        "\n",
        "Porque la distancia cartesiana sólo vale si puedes volar. Si tienes que ir entre calles, tendrás que dar vueltas y eso incrementa la distancia.\n",
        "\n",
        "> ¿Por qué crees que Google hace eso?\n",
        "\n",
        "\n",
        "Otra distancia, algo más realista para la"
      ],
      "metadata": {
        "id": "v1Vt3HmOu9zq"
      }
    },
    {
      "cell_type": "code",
      "source": [
        "##Función que calcula la distancia entre 2 puntos cartesianos\n",
        "##Definimos nuestra función y la implementamos con 4 argumentos,\n",
        "def cartessian_distance2(p1x1, p1y1, p2x2, p2y2):\n",
        "  \"\"\"\n",
        "  Aquí calculamos la distancia entre los dos puntos\n",
        "  \"\"\"\n",
        "  distance = sqrt((p1x1-p2x2)**2 + (p1y1-p2y2)**2)\n",
        "  return distance"
      ],
      "metadata": {
        "id": "A3kdJNdvhZG_"
      },
      "execution_count": 10,
      "outputs": []
    },
    {
      "cell_type": "code",
      "source": [
        "##Función que calcula la distancia entre 2 puntos cartesianos\n",
        "##Definimos nuestra función y la implementamos con 4 argumentos,\n",
        "def cartessian_distance(p1x1, p1y1, p2x2, p2y2):\n",
        "  \"\"\"\n",
        "  Aquí calculamos la distancia entre los dos puntos\n",
        "  \"\"\"\n",
        "  distance = sqrt(pow((p1x1-p2x2),2)+pow((p1y1-p2y2),2))\n",
        "  return distance"
      ],
      "metadata": {
        "id": "HeWWioggXxkv"
      },
      "execution_count": 7,
      "outputs": []
    },
    {
      "cell_type": "code",
      "source": [
        "cartessian_distance(4,5,3,8)"
      ],
      "metadata": {
        "colab": {
          "base_uri": "https://localhost:8080/"
        },
        "id": "Y9hHv7frbfuP",
        "outputId": "0e383ceb-9b2c-4859-cfc2-d863727dd285"
      },
      "execution_count": 8,
      "outputs": [
        {
          "output_type": "execute_result",
          "data": {
            "text/plain": [
              "3.1622776601683795"
            ]
          },
          "metadata": {},
          "execution_count": 8
        }
      ]
    },
    {
      "cell_type": "code",
      "source": [
        "cartessian_distance2(4,5,3,8)"
      ],
      "metadata": {
        "colab": {
          "base_uri": "https://localhost:8080/"
        },
        "id": "tpEZ-GD8if8a",
        "outputId": "c6a8ac59-05e9-4131-d1bc-428bf4bc2ef2"
      },
      "execution_count": 12,
      "outputs": [
        {
          "output_type": "execute_result",
          "data": {
            "text/plain": [
              "3.1622776601683795"
            ]
          },
          "metadata": {},
          "execution_count": 12
        }
      ]
    },
    {
      "cell_type": "markdown",
      "source": [
        "# **Operaciones con cadenas**\n",
        "##Funciones con cadenas\n",
        "\n",
        "## Recordatorio\n",
        "\n",
        "\n",
        "Las operaciones que acepta una cadena son:\n",
        "\n",
        "* `+` para concatenar\n",
        "* `*` para extender\n",
        "\n",
        "Además hay otros operadores que podemos usar:\n",
        "\n",
        "### Indexado `[n]`\n",
        "\n",
        "Nos permite obtener el caracter que está en alguna posición.\n",
        "\n",
        "> Recuerda que los programadores emepzamos a contar en el cero\n",
        "\n",
        "```python\n",
        "\"lucas\"[0] #devolvería l\n",
        "```\n",
        "\n",
        "> El indexado puede ser negativo para indicar que se empieza por el final, y en ese caso representa la distancia desde el final\n",
        "\n",
        "```python\n",
        "\"lucas\"[-1] #devolvería s\n",
        "```\n",
        "\n",
        "### Slicing o *fileteado*\n",
        "\n",
        "Te permite obtener trozos o subcadenas.\n",
        "\n",
        "El slicing se realiza utilizando corchetes y dos puntos (:) para separar los índices de inicio, fin y, opcionalmente, el paso.\n",
        "\n",
        "La sintaxis general para el slicing es la siguiente:\n",
        "\n",
        "`secuencia[inicio:fin:paso]`\n",
        "\n",
        "Donde:\n",
        "\n",
        "* `inicio`: Es el índice del primer elemento que queremos incluir en la porción extraída. Si se omite, se asume el inicio de la secuencia (índice 0).\n",
        "* `fin`: Es el índice del elemento en el que queremos detenernos, sin incluirlo en la porción extraída. Si se omite, se asume el final de la secuencia.\n",
        "* `paso`: Es el número de índices entre elementos consecutivos en la porción extraída. Si se omite, se asume un paso de 1.\n",
        "  \n",
        "Algunos ejemplos de slicing en Python:\n",
        "\n",
        "\n",
        "```python\n",
        "cadena = \"Hola Mundo\"\n",
        "\n",
        "# Extraer los primeros 4 caracteres\n",
        "subcadena1 = cadena[:4]  # Resultado: \"Hola\"\n",
        "\n",
        "# Extraer los últimos 5 caracteres\n",
        "subcadena2 = cadena[-5:]  # Resultado: \"Mundo\"\n",
        "\n",
        "# Extraer los caracteres en posiciones impares\n",
        "subcadena3 = cadena[1::2]  # Resultado: \"oa ud\"\n",
        "\n",
        "# Invertir la cadena\n",
        "subcadena4 = cadena[::-1]  # Resultado: \"odnuM aloH\"\n",
        "```\n",
        "\n",
        "\n",
        "## Longitud\n",
        "\n",
        "La función `len` nos devuelve la longitud de una cadena."
      ],
      "metadata": {
        "id": "G-cBJQiLvVvs"
      }
    },
    {
      "cell_type": "markdown",
      "source": [
        "**Ejercicio**\n",
        "Crea la función first_last(s) que acepta una cadena s y devuelve una nueva cadena con el primer y último caracteres de s.\n"
      ],
      "metadata": {
        "id": "Z63jvVUYv0b5"
      }
    },
    {
      "cell_type": "code",
      "source": [
        "##Creamos nuestra función\n",
        "def first_last(s):\n",
        "  \"\"\"\n",
        "  Definimos el cuerpo de nuestra función\n",
        "  \"\"\"\n",
        "  subcadena = s[0] + s[-1]\n",
        "  return subcadena"
      ],
      "metadata": {
        "id": "4kOecRvDwDIK"
      },
      "execution_count": 24,
      "outputs": []
    },
    {
      "cell_type": "code",
      "source": [
        "first_last(\"hola a todos\")"
      ],
      "metadata": {
        "colab": {
          "base_uri": "https://localhost:8080/",
          "height": 36
        },
        "id": "I2-XLqrmxLSN",
        "outputId": "b972aea2-d520-444b-f30f-1c8535e3ad81"
      },
      "execution_count": 27,
      "outputs": [
        {
          "output_type": "execute_result",
          "data": {
            "text/plain": [
              "'os'"
            ],
            "application/vnd.google.colaboratory.intrinsic+json": {
              "type": "string"
            }
          },
          "metadata": {},
          "execution_count": 27
        }
      ]
    },
    {
      "cell_type": "markdown",
      "source": [
        "Crea la función reverse(s) que acepta una cadena s y devuelve la cadena invertida."
      ],
      "metadata": {
        "id": "pZifJuKNv-cS"
      }
    },
    {
      "cell_type": "code",
      "source": [
        "##Creamos nuestra función reverse(s)\n",
        "def reverse(s):\n",
        "  \"\"\"\n",
        "  Creamos el cuerpo de nuestra función\n",
        "  \"\"\"\n",
        "  subcadena = s[::-1]\n",
        "  return subcadena"
      ],
      "metadata": {
        "id": "yvz_KlntwD9S"
      },
      "execution_count": 28,
      "outputs": []
    },
    {
      "cell_type": "code",
      "source": [
        "reverse(\"Kurama\")"
      ],
      "metadata": {
        "colab": {
          "base_uri": "https://localhost:8080/",
          "height": 36
        },
        "id": "t9fjtK0RyXTn",
        "outputId": "5866b41e-a794-42f6-f7a3-544a1e812a62"
      },
      "execution_count": 29,
      "outputs": [
        {
          "output_type": "execute_result",
          "data": {
            "text/plain": [
              "'amaruK'"
            ],
            "application/vnd.google.colaboratory.intrinsic+json": {
              "type": "string"
            }
          },
          "metadata": {},
          "execution_count": 29
        }
      ]
    },
    {
      "cell_type": "markdown",
      "source": [
        "Crea la función es_palindromo(s) que acepta una cadena s y devuelve True si s es un palíndromo (se lee igual hacia adelante y hacia atrás) y False si no lo es. Usa la función anterior."
      ],
      "metadata": {
        "id": "PZJYRGEOwBIq"
      }
    },
    {
      "cell_type": "code",
      "source": [
        "##Creamos nuestra función es_palindromo\n",
        "def es_palindromo(s):\n",
        "  \"\"\"\n",
        "  Creamos el cuerpo de nuestra función\n",
        "  \"\"\"\n",
        "  return s == reverse(s)"
      ],
      "metadata": {
        "id": "hEe5eUS0wEnM"
      },
      "execution_count": 35,
      "outputs": []
    },
    {
      "cell_type": "code",
      "source": [
        "es_palindromo(\"sosos\")"
      ],
      "metadata": {
        "colab": {
          "base_uri": "https://localhost:8080/"
        },
        "id": "wQBH9NFJ1YxS",
        "outputId": "0e8136d3-2302-4095-9fb4-1a5936b733ed"
      },
      "execution_count": 41,
      "outputs": [
        {
          "output_type": "execute_result",
          "data": {
            "text/plain": [
              "True"
            ]
          },
          "metadata": {},
          "execution_count": 41
        }
      ]
    }
  ]
}